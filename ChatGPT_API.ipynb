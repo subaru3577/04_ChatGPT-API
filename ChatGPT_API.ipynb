{
 "cells": [
  {
   "cell_type": "markdown",
   "id": "c0e8860d",
   "metadata": {},
   "source": [
    "# Extracting Key Information about Child Labour from News Articles"
   ]
  },
  {
   "cell_type": "markdown",
   "id": "904c2c57",
   "metadata": {},
   "source": [
    "This work has been submitted in partial fulfilment of the requirements of the Masters Degree in Urban Data Science and Analytics of the University of Leeds.  \n",
    "- Date of submission: 23 April 2024\n",
    "- Author: Subaru Shimizu"
   ]
  },
  {
   "cell_type": "markdown",
   "id": "6fc22203",
   "metadata": {},
   "source": [
    "**Disclaimer:**  \n",
    "- This work is for educational and informational purposes only. The author makes no warranties or representations about the accuracy, reliability, or completeness of the code.\n",
    "- The author does not take any responsibility for any direct, indirect, incidental, or consequential damages and losses from the use of the work.\n",
    "- The work is not to be reused, modified, or redistributed without explicit permission from the author.\n",
    "- The results obtained from the analysis are not intended to criticise any specific country, region, or organization. Please note that further improvements in the methodology are necessary for more reliable outcomes."
   ]
  },
  {
   "cell_type": "markdown",
   "id": "fb137635",
   "metadata": {},
   "source": [
    "**Overview:**  \n",
    "  \n",
    "This work aims to extract key information about child labour, such as countries and commodities, from the text of news articles. However, since the text files include website headers, footers, and advertisements, their readability is quite low. To overcome this challenge, we utilised the ChatGPT API, which excels at understanding the context of articles and filtering out irrelevant information."
   ]
  },
  {
   "cell_type": "markdown",
   "id": "0054f55f",
   "metadata": {},
   "source": [
    "# Step 0: Import Libraries"
   ]
  },
  {
   "cell_type": "markdown",
   "id": "2787d5b2",
   "metadata": {},
   "source": [
    "Import libraries."
   ]
  },
  {
   "cell_type": "code",
   "execution_count": 24,
   "id": "7ab6e7ed",
   "metadata": {},
   "outputs": [],
   "source": [
    "import os\n",
    "import zipfile\n",
    "import pandas as pd\n",
    "import numpy as np\n",
    "import seaborn as sns\n",
    "palette = 'bwr' \n",
    "sns.set_palette(palette)\n",
    "\n",
    "import matplotlib.pyplot as plt\n",
    "from matplotlib.pyplot import figure\n",
    "pd.options.mode.chained_assignment = None\n",
    "\n",
    "from datetime import datetime\n",
    "import plotly.express as px\n",
    "import plotly.graph_objects as go\n",
    "import plotly.io as pio\n",
    "import plotly.offline as pyo\n",
    "\n",
    "from pysal.lib import weights\n",
    "from pysal.lib import io\n",
    "\n",
    "import contextily as cx \n",
    "import geopandas as gpd\n",
    "from shapely.geometry import Point\n",
    "from shapely import wkt\n",
    "\n",
    "import folium\n",
    "from folium import plugins\n",
    "\n",
    "import spacy\n",
    "import openai\n",
    "import requests\n",
    "from openai import OpenAI\n",
    "from openai.types import Completion, CompletionChoice, CompletionUsage\n",
    "\n",
    "from wordcloud import WordCloud\n",
    "import matplotlib.pyplot as plt\n",
    "\n",
    "pd.set_option('display.max_columns', 200)\n",
    "pd.set_option('display.max_rows', 200)\n",
    "%matplotlib inline"
   ]
  },
  {
   "cell_type": "markdown",
   "id": "9536e02c",
   "metadata": {},
   "source": [
    "Define the useful function."
   ]
  },
  {
   "cell_type": "code",
   "execution_count": null,
   "id": "b008728a",
   "metadata": {},
   "outputs": [],
   "source": [
    "def extract_zip(zip_file, extract_to):\n",
    "    with zipfile.ZipFile(zip_file, 'r') as zip_ref:\n",
    "        zip_ref.extractall(extract_to)"
   ]
  },
  {
   "cell_type": "code",
   "execution_count": null,
   "id": "eebc68d6",
   "metadata": {},
   "outputs": [],
   "source": [
    "# Assign directory\n",
    "directory = r'XXXXX'\n",
    " \n",
    "# get all files under directory\n",
    "file_list = os.listdir(directory)\n",
    " \n",
    "# change the extention to .txt\n",
    "for file_name in file_list:\n",
    "    # file's full path\n",
    "    file_path = os.path.join(directory, file_name)\n",
    "    # change the exrtention\n",
    "    new_file_path = os.path.splitext(file_path)[0] + '.txt'\n",
    "    try:\n",
    "        # change the file name\n",
    "        os.rename(file_path, new_file_path)\n",
    "        print(f\"Renamed {file_path} to {new_file_path}\")\n",
    "    except Exception as e:\n",
    "        print(f\"Error renaming file {file_path}: {e}\")"
   ]
  },
  {
   "cell_type": "markdown",
   "id": "bbab58a6",
   "metadata": {},
   "source": [
    "# Step 1: Preparation"
   ]
  },
  {
   "cell_type": "markdown",
   "id": "5edc998c",
   "metadata": {},
   "source": [
    "### 1-1: Read Keywords of Child Labour and Commodities"
   ]
  },
  {
   "cell_type": "markdown",
   "id": "fd70d962",
   "metadata": {},
   "source": [
    "We prepared a list of child labour related keywords with the help of ChatGPT in advance.  "
   ]
  },
  {
   "cell_type": "code",
   "execution_count": null,
   "id": "8c487151",
   "metadata": {},
   "outputs": [],
   "source": [
    "# Read the Excel file that summarises child labour related keywords.\n",
    "keywords_excel = pd.read_excel('key_words.xlsx')\n",
    "keywords_excel.head()"
   ]
  },
  {
   "cell_type": "code",
   "execution_count": 16,
   "id": "5fb0336a",
   "metadata": {},
   "outputs": [
    {
     "data": {
      "text/plain": [
       "['Child labour',\n",
       " 'child labor',\n",
       " 'kid worker',\n",
       " 'Child Exploitation',\n",
       " 'Underage Labour ',\n",
       " 'Juvenile Labour',\n",
       " 'Child Work',\n",
       " 'Child Employment ',\n",
       " 'Minor Labour',\n",
       " 'Youth Labour',\n",
       " 'Adolescent Labour',\n",
       " 'Child Servitude',\n",
       " 'Child Trafficking',\n",
       " 'Child Servitude',\n",
       " 'Underage Employment',\n",
       " 'Child Exploitation',\n",
       " 'Minor Workforce',\n",
       " 'Youth Exploitation',\n",
       " 'Child Trafficking',\n",
       " 'Juvenile Exploitation',\n",
       " 'Child Bondage',\n",
       " 'Child Forced Labour',\n",
       " 'Child Slavery',\n",
       " 'Child Indentured Labour',\n",
       " 'Child Sweatshop Labour',\n",
       " 'Child Exploitative Labour',\n",
       " 'Child Labor Trafficking',\n",
       " 'Child Commercial Exploitation',\n",
       " 'Child Abuse of Labour',\n",
       " 'Child Employment Exploitation',\n",
       " 'Child Labor Exploitation',\n",
       " 'Child Labor Abuse',\n",
       " 'Child Labor Trafficking',\n",
       " 'Child Work Exploitation',\n",
       " 'Child Work Abuse',\n",
       " 'Child Labor Violation',\n",
       " 'Child Workforce Exploitation',\n",
       " 'Child Labor Malpractice',\n",
       " 'Child Labor Infringement',\n",
       " 'Child Workforce Injustice',\n",
       " 'Child Labor Iniquity',\n",
       " 'Child Labor Misuse',\n",
       " 'Child Labor Maltreatment',\n",
       " 'Child Abuse of Labour',\n",
       " 'Child Sexual Exploitation',\n",
       " 'Child Labor Exploitation',\n",
       " 'Child Labor Abuse',\n",
       " 'Child Pornography',\n",
       " 'Child Labor Trafficking',\n",
       " 'Child Labor Violation',\n",
       " 'Child Labor Infringement',\n",
       " 'Child Prostitution',\n",
       " 'Child Marriage',\n",
       " 'Child Sex Trafficking',\n",
       " 'Child Labor Misuse',\n",
       " 'Child Labor Maltreatment',\n",
       " 'Child Labor Iniquity',\n",
       " 'Child Commercial Exploitation',\n",
       " 'Child Soldiering',\n",
       " 'Child Domestic Servitude',\n",
       " 'Child Labor in Agriculture']"
      ]
     },
     "execution_count": 16,
     "metadata": {},
     "output_type": "execute_result"
    }
   ],
   "source": [
    "# Make a list of child labour keywords.\n",
    "keyword_labour = []\n",
    "for words in keywords_excel['Relevent to Child labour']:\n",
    "    keyword_labour.append(words)\n",
    "\n",
    "keyword_labour = [keyword for keyword in keyword_labour if pd.notnull(keyword)]\n",
    "keywords = keyword_labour\n",
    "keywords"
   ]
  },
  {
   "cell_type": "code",
   "execution_count": 17,
   "id": "bd593a25",
   "metadata": {},
   "outputs": [
    {
     "data": {
      "text/plain": [
       "['Gold',\n",
       " 'Cobolt\\xa0',\n",
       " 'Textiles',\n",
       " 'Apparel',\n",
       " 'Footwear',\n",
       " 'Toys',\n",
       " 'Handicrafts',\n",
       " 'Electronics',\n",
       " 'Cosmetics',\n",
       " 'Furniture',\n",
       " 'Food processing products',\n",
       " 'Ores',\n",
       " 'Bricks',\n",
       " 'Recycled materials',\n",
       " 'Paper products',\n",
       " 'Utensils',\n",
       " 'Medical supplies',\n",
       " 'Packaging materials',\n",
       " 'Agricultural produce',\n",
       " 'Metal products',\n",
       " 'Building materials',\n",
       " 'Leather goods',\n",
       " 'Carpets',\n",
       " 'Rugs',\n",
       " 'Carpentry',\n",
       " 'Garments',\n",
       " 'Watches',\n",
       " 'Jewelry',\n",
       " 'Glassware',\n",
       " 'Ceramics',\n",
       " 'Pottery',\n",
       " 'Tiles',\n",
       " 'Plastics',\n",
       " 'Paintings',\n",
       " 'Sculptures',\n",
       " 'Musical instruments',\n",
       " 'Watches',\n",
       " 'Eyewear',\n",
       " 'Cosmetics',\n",
       " 'Pharmaceuticals',\n",
       " 'Automotive parts',\n",
       " 'Sporting goods',\n",
       " 'Fireworks',\n",
       " 'Matches',\n",
       " 'Cigarettes',\n",
       " 'Handbags',\n",
       " 'Wallets',\n",
       " 'Stationery',\n",
       " 'Carpentry tools',\n",
       " 'Construction materials',\n",
       " 'Cleaning products',\n",
       " 'Agricultural chemicals',\n",
       " 'Textile dyes',\n",
       " 'Glues and adhesives',\n",
       " 'Paints and coatings',\n",
       " 'Batteries',\n",
       " 'Electrical components',\n",
       " 'Plastics and rubber products',\n",
       " 'Carpets and rugs',\n",
       " 'Furniture upholstery',\n",
       " 'Disposable cutlery and dishes',\n",
       " 'Fishing gear']"
      ]
     },
     "execution_count": 17,
     "metadata": {},
     "output_type": "execute_result"
    }
   ],
   "source": [
    "# Make a list of commodity kewrods related to child labour.\n",
    "commodity_labour = []\n",
    "for words in keywords_excel['Relevent to commodies']:\n",
    "    commodity_labour.append(words)\n",
    "commodity_labour = [keyword for keyword in commodity_labour if pd.notnull(keyword)]\n",
    "commodity_labour"
   ]
  },
  {
   "cell_type": "markdown",
   "id": "205b1277",
   "metadata": {},
   "source": [
    "### 1-2: Read Text Files (News Articles) "
   ]
  },
  {
   "cell_type": "code",
   "execution_count": null,
   "id": "f681836c",
   "metadata": {},
   "outputs": [],
   "source": [
    "def extract_text_file(file_path, encoding='utf-8'):\n",
    "    with open(file_path, 'r', encoding=encoding) as file:\n",
    "        text = file.read()\n",
    "    return text\n",
    "\n",
    "# Example usage\n",
    "file_path = r'XXXXX'  \n",
    "# Replace with the path to your text file\n",
    "text_content = extract_text_file(file_path)\n",
    "print(text_content)"
   ]
  },
  {
   "cell_type": "markdown",
   "id": "0d9e22e1",
   "metadata": {},
   "source": [
    "### 1-3: Extract Text Files (News Articles) related to Child Labour"
   ]
  },
  {
   "cell_type": "code",
   "execution_count": null,
   "id": "9e636f33",
   "metadata": {},
   "outputs": [],
   "source": [
    "## Find text files that contains the keywords.\n",
    "def find_child_labor_references_in_folder(folder_path, keywords, max_files=10000, encoding='utf-8'):\n",
    "    child_labor_files = []\n",
    "\n",
    "    # Iterate over files in the folder\n",
    "    file_count = 0\n",
    "    for filename in os.listdir(folder_path):\n",
    "        if file_count >= max_files:\n",
    "            break\n",
    "\n",
    "        if filename.endswith('.txt'):\n",
    "            file_path = os.path.join(folder_path, filename)\n",
    "            with open(file_path, 'r', encoding=encoding, errors='ignore') as file:\n",
    "                text = file.read().lower()  # Convert text to lowercase for case-insensitive matching\n",
    "\n",
    "            # Check for keywords in the text\n",
    "            for keyword in keywords:\n",
    "                if keyword in text:\n",
    "                    child_labor_files.append(filename)\n",
    "                    break  # Once any keyword is found, no need to check further for this file\n",
    "\n",
    "            file_count += 1\n",
    "\n",
    "    return child_labor_files\n",
    "\n",
    "folder_path = r'XXXXX'\n",
    "child_labor_files = find_child_labor_references_in_folder(folder_path, keywords)\n",
    "\n",
    "if child_labor_files:\n",
    "    print(\"Files mentioning child labor keywords:\", child_labor_files)\n",
    "else:\n",
    "    print(\"No files mentioning child labor keywords found.\")"
   ]
  },
  {
   "cell_type": "markdown",
   "id": "31b8feaf",
   "metadata": {},
   "source": [
    "### 1-4: See the Extracted Text Files (News Articles) related to Child Labour"
   ]
  },
  {
   "cell_type": "code",
   "execution_count": null,
   "id": "968e1e97",
   "metadata": {},
   "outputs": [],
   "source": [
    "# Open the child labour-related text files and show the contents\n",
    "def process_files(file_paths, encoding='utf-8'):\n",
    "    for file_path in file_paths:\n",
    "        # Do something with each file\n",
    "        print(\"Processing file:\", file_path)\n",
    "        with open(file_path, 'r', encoding=encoding, errors='ignore') as file:\n",
    "            text = file.read()\n",
    "            # Perform further processing or analysis on the file content\n",
    "            # For example, you can print the content of the file\n",
    "            print(text)\n",
    "            print(\"-\" * 50)  # Print a separator between files\n",
    "\n",
    "# Call process_files with child_labor_folder list\n",
    "process_files(child_labor_folder, encoding='utf-8')\n"
   ]
  },
  {
   "cell_type": "code",
   "execution_count": null,
   "id": "c2fa0e03",
   "metadata": {},
   "outputs": [],
   "source": [
    "def read_text_files(file_paths):\n",
    "    data = []\n",
    "    for file_path in file_paths:\n",
    "        with open(file_path, 'r', encoding='utf-8') as file:\n",
    "            content = file.read()\n",
    "            data.append(content)\n",
    "    return data\n",
    "\n",
    "# Assign a dataframe and accommodate contents.\n",
    "def text_files_to_dataframe(file_paths):\n",
    "    # Read text files\n",
    "    texts = read_text_files(file_paths)\n",
    "    # Create DataFrame\n",
    "    df = pd.DataFrame({'Text': texts})\n",
    "    # Optionally, add a column for file names\n",
    "    df['File_Name'] = [os.path.basename(file_path) for file_path in file_paths]\n",
    "    return df\n",
    "\n",
    "# Create DataFrame\n",
    "df = text_files_to_dataframe(child_labor_folder)\n",
    "\n",
    "# Display DataFrame\n",
    "print(df)"
   ]
  },
  {
   "cell_type": "markdown",
   "id": "458367f8",
   "metadata": {},
   "source": [
    "# Step3: Analysis using ChatGPT API"
   ]
  },
  {
   "cell_type": "code",
   "execution_count": 16,
   "id": "3b94acb1",
   "metadata": {},
   "outputs": [],
   "source": [
    "API_KEY=  \"XXXXX\""
   ]
  },
  {
   "cell_type": "markdown",
   "id": "07d60699",
   "metadata": {},
   "source": [
    "### 3-1: Create Functions to Identify Key Information in Child Labour Related Articles"
   ]
  },
  {
   "cell_type": "markdown",
   "id": "2a598e86",
   "metadata": {},
   "source": [
    "Function for Identifying Company Names"
   ]
  },
  {
   "cell_type": "code",
   "execution_count": null,
   "id": "eed99674",
   "metadata": {},
   "outputs": [],
   "source": [
    "def chat_gpt_companies(text, API_KEY):\n",
    "    client = OpenAI(api_key = API_KEY)\n",
    "    response = client.chat.completions.create(\n",
    "        messages=[\n",
    "    \n",
    "            {\n",
    "                \"role\": \"system\",\n",
    "                \"content\": f\"\"\"Can you find the compaines that are mentioned in relation to child labour exploitation? \n",
    "                Here is the text:'{text}'. \n",
    "                Please provide a list of company names, without any additional text or sentences.\n",
    "                If there are no relevant company names found, please return 'None'.\n",
    "                Here is an example of your message: 'Microsoft, Alphabet'.\n",
    "                \"\"\"\n",
    "            },\n",
    "            {\n",
    "                \"role\": \"user\",\n",
    "                \"content\": text \n",
    "            }\n",
    "            ],\n",
    "            model = \"gpt-3.5-turbo\"\n",
    "    )\n",
    "\n",
    "    return (response.choices[0].message.content)"
   ]
  },
  {
   "cell_type": "markdown",
   "id": "f7bb4bef",
   "metadata": {},
   "source": [
    "Function for Identifying Commodity Names"
   ]
  },
  {
   "cell_type": "code",
   "execution_count": 73,
   "id": "cc7c8d0e",
   "metadata": {},
   "outputs": [],
   "source": [
    "def chat_gpt_commodities(text, API_KEY):\n",
    "    client = OpenAI(api_key = API_KEY)\n",
    "    response = client.chat.completions.create(\n",
    "        messages=[\n",
    "    \n",
    "            {\n",
    "                \"role\": \"system\",\n",
    "                \"content\": f\"\"\"Can you find the commodities that are mentioned in relation to child labour exploitation?\n",
    "                Here is the text: '{text}'.\n",
    "                Please provide a list of commodity names, without any additional text or sentences, using only the names in the commodity list: '{commodity_labour}'.\n",
    "                If there are no relevant commodity names found, please return 'None'.\n",
    "                Here is an example of your message: 'Jewelry, Apparel'.\n",
    "                \"\"\"\n",
    "            },\n",
    "            {\n",
    "                \"role\": \"user\",\n",
    "                \"content\": text \n",
    "            }\n",
    "            ],\n",
    "            model = \"gpt-3.5-turbo\"\n",
    "    )\n",
    "    return (response.choices[0].message.content)"
   ]
  },
  {
   "cell_type": "markdown",
   "id": "130d7a1c",
   "metadata": {},
   "source": [
    "Function for Identifying Country Names"
   ]
  },
  {
   "cell_type": "code",
   "execution_count": 74,
   "id": "c49360f4",
   "metadata": {},
   "outputs": [],
   "source": [
    "## function to extract country info using chat gpt api \n",
    "def chat_gpt_countries(text, API_KEY):\n",
    "    client = OpenAI(api_key = API_KEY)\n",
    "    response = client.chat.completions.create(\n",
    "        messages=[\n",
    "    \n",
    "            {\n",
    "                \"role\": \"system\",\n",
    "                \"content\": f\"\"\"Can you find the countries that are mentioned in relation to child labour exploitation?\n",
    "                Here is the text: '{text}'.\n",
    "                Please provide a list of country names, without any additional text or sentences.\n",
    "                If there are no relevant country names found, please return 'None'.\n",
    "                Here is an example of your message: 'United States, Indonesia'.\n",
    "                \"\"\" \n",
    "            },\n",
    "            {\n",
    "                \"role\": \"user\",\n",
    "                \"content\": text \n",
    "            }\n",
    "            ],\n",
    "            model = \"gpt-3.5-turbo\"\n",
    "    )\n",
    "\n",
    "    return (response.choices[0].message.content)"
   ]
  },
  {
   "cell_type": "markdown",
   "id": "ba5a822a",
   "metadata": {},
   "source": [
    "### 3-2: Extract the Key Information using ChatGPT API"
   ]
  },
  {
   "cell_type": "markdown",
   "id": "044b7f2b",
   "metadata": {},
   "source": [
    "Note: We attempted to extract company names mentioned in the articles. However, we found that some of the identified companies were not related to child labor exploitation and this approach has issue with the reliability. Therefore, we decided not to extract company names."
   ]
  },
  {
   "cell_type": "code",
   "execution_count": null,
   "id": "d9539610",
   "metadata": {},
   "outputs": [],
   "source": [
    "# !CAUTION! Executing this cell consumes a lot of tokens.\n",
    "\n",
    "output_df = pd.DataFrame(columns=['Companies', 'Commodities', 'Countries'])\n",
    "\n",
    "start_index = 0\n",
    "for index, row in df.iloc[start_index:].iterrows():\n",
    "    text = row[\"Text\"]\n",
    "    try:\n",
    "        output1 = chat_gpt_companies(text, API_KEY)\n",
    "        output2 = chat_gpt_commodities(text, API_KEY)\n",
    "        output3 = chat_gpt_countries(text, API_KEY)\n",
    "        print(\"Index: {}, Companies: {} Commoditites: {} Countries: {}\".format(index,output1,output2,output3))\n",
    "        output_df.loc[index] = [output1,output2,output3]\n",
    "    except Exception as e:\n",
    "        print(f\"Error processing text index: {index}.\")\n",
    "        continue\n",
    " \n",
    "# Now output_df contains the combined outputs\n",
    "print(output_df)"
   ]
  },
  {
   "cell_type": "markdown",
   "id": "ae73f9a3",
   "metadata": {},
   "source": [
    "# Step5: Visualisation of Results"
   ]
  },
  {
   "cell_type": "markdown",
   "id": "668a651e",
   "metadata": {},
   "source": [
    "### 5-1: Countries Mentioned in Child Labour Related Articles"
   ]
  },
  {
   "cell_type": "code",
   "execution_count": null,
   "id": "571ac48f",
   "metadata": {},
   "outputs": [],
   "source": [
    "output_df['Countries'] = output_df['Countries'].str.replace('.', '')\n",
    "output_df"
   ]
  },
  {
   "cell_type": "markdown",
   "id": "4bc98a04",
   "metadata": {},
   "source": [
    "Responses from ChatGPT have variations in country names. It is necessary to unify country names if necessary."
   ]
  },
  {
   "cell_type": "code",
   "execution_count": null,
   "id": "d331cb45",
   "metadata": {},
   "outputs": [],
   "source": [
    "## DRC\n",
    "output_df['Countries'] = output_df['Countries'].str.replace('Democratic Republic of Congo (DRC)', 'Democratic Republic of Congo')\n",
    "output_df['Countries'] = output_df['Countries'].str.replace('Democratic Republic of the (DRC)', 'Democratic Republic of Congo')\n",
    "output_df['Countries'] = output_df['Countries'].str.replace('Democratic Republic of the Congo', 'Democratic Republic of Congo')\n",
    "output_df['Countries'] = output_df['Countries'].str.replace('DR Congo', 'Democratic Republic of Congo')\n",
    "\n",
    "# Germany\n",
    "output_df['Countries'] = output_df['Countries'].str.replace(' Germany', 'Germany')\n",
    "# Nicaragua\n",
    "output_df['Countries'] = output_df['Countries'].str.replace(' Nicaragua', 'Nicaragua')\n",
    "\n",
    "# United States\n",
    "output_df['Countries'] = output_df['Countries'].str.replace('America', 'United States')\n",
    "\n",
    "# Brunei\n",
    "output_df['Countries'] = output_df['Countries'].str.replace('Brunei', 'Brunei Darussalam')\n",
    "output_df['Countries'] = output_df['Countries'].str.replace('and Brunei Darussalam', 'Brunei Darussalam')\n",
    "output_df['Countries'] = output_df['Countries'].str.replace('Brunei Darussalam Darussalam', 'Brunei Darussalam')\n",
    "\n",
    "# North Korea\n",
    "output_df['Countries'] = output_df['Countries'].str.replace('North Korea', 'North Korea')\n",
    "\n",
    "# United Kingdom\n",
    "output_df['Countries'] = output_df['Countries'].str.replace('Britain', 'United Kingdom')\n",
    "output_df['Countries'] = output_df['Countries'].str.replace('United Kingdom (UK)', 'United Kingdom')\n",
    "output_df['Countries'] = output_df['Countries'].str.replace('the UK', 'United Kingdom')\n",
    "output_df['Countries'] = output_df['Countries'].str.replace('UK', 'United Kingdom')\n",
    "\n",
    "# Venezuela\n",
    "output_df['Countries'] = output_df['Countries'].str.replace('Venezuela (Bolivarian Republic of)', 'Venezuela')\n",
    "\n",
    "# Myanmar\n",
    "output_df['Countries'] = output_df['Countries'].str.replace('Myanmar (Burma)', 'Myanmar')\n",
    "\n",
    "# Russia\n",
    "output_df['Countries'] = output_df['Countries'].str.replace('Russian Federation', 'Russia')"
   ]
  },
  {
   "cell_type": "code",
   "execution_count": 137,
   "id": "bbfc05d0",
   "metadata": {},
   "outputs": [],
   "source": [
    "country_counts= {}\n",
    "for data in output_df['Countries']:\n",
    "    data = data.split(\", \")\n",
    "    for country in data:\n",
    "        if country in country_counts:\n",
    "            country_counts[country] += 1\n",
    "        else:\n",
    "            country_counts[country] = 1"
   ]
  },
  {
   "cell_type": "code",
   "execution_count": null,
   "id": "a53bdf56",
   "metadata": {},
   "outputs": [],
   "source": [
    "country_counts_df = pd.DataFrame(list(country_counts.items()), columns=['Country', 'Count'])\n",
    "country_counts_df = country_counts_df.sort_values(by='Count', ascending=False)\n",
    "\n",
    "# Remove \"None\"\n",
    "country_counts_df = country_counts_df[country_counts_df['Country'] != 'None']\n",
    "country_counts_df"
   ]
  },
  {
   "cell_type": "code",
   "execution_count": 143,
   "id": "8d53a5f1",
   "metadata": {},
   "outputs": [
    {
     "data": {
      "text/html": [
       "<div>\n",
       "<style scoped>\n",
       "    .dataframe tbody tr th:only-of-type {\n",
       "        vertical-align: middle;\n",
       "    }\n",
       "\n",
       "    .dataframe tbody tr th {\n",
       "        vertical-align: top;\n",
       "    }\n",
       "\n",
       "    .dataframe thead th {\n",
       "        text-align: right;\n",
       "    }\n",
       "</style>\n",
       "<table border=\"1\" class=\"dataframe\">\n",
       "  <thead>\n",
       "    <tr style=\"text-align: right;\">\n",
       "      <th></th>\n",
       "      <th>Country</th>\n",
       "      <th>Count</th>\n",
       "    </tr>\n",
       "  </thead>\n",
       "  <tbody>\n",
       "    <tr>\n",
       "      <th>4</th>\n",
       "      <td>United States</td>\n",
       "      <td>243</td>\n",
       "    </tr>\n",
       "    <tr>\n",
       "      <th>13</th>\n",
       "      <td>India</td>\n",
       "      <td>97</td>\n",
       "    </tr>\n",
       "    <tr>\n",
       "      <th>6</th>\n",
       "      <td>China</td>\n",
       "      <td>86</td>\n",
       "    </tr>\n",
       "    <tr>\n",
       "      <th>45</th>\n",
       "      <td>Syria</td>\n",
       "      <td>64</td>\n",
       "    </tr>\n",
       "    <tr>\n",
       "      <th>3</th>\n",
       "      <td>Pakistan</td>\n",
       "      <td>63</td>\n",
       "    </tr>\n",
       "    <tr>\n",
       "      <th>21</th>\n",
       "      <td>Mexico</td>\n",
       "      <td>58</td>\n",
       "    </tr>\n",
       "    <tr>\n",
       "      <th>15</th>\n",
       "      <td>Bangladesh</td>\n",
       "      <td>54</td>\n",
       "    </tr>\n",
       "    <tr>\n",
       "      <th>19</th>\n",
       "      <td>Afghanistan</td>\n",
       "      <td>39</td>\n",
       "    </tr>\n",
       "    <tr>\n",
       "      <th>55</th>\n",
       "      <td>Ghana</td>\n",
       "      <td>39</td>\n",
       "    </tr>\n",
       "    <tr>\n",
       "      <th>52</th>\n",
       "      <td>Russia</td>\n",
       "      <td>39</td>\n",
       "    </tr>\n",
       "    <tr>\n",
       "      <th>7</th>\n",
       "      <td>Indonesia</td>\n",
       "      <td>38</td>\n",
       "    </tr>\n",
       "    <tr>\n",
       "      <th>51</th>\n",
       "      <td>United Kingdom</td>\n",
       "      <td>38</td>\n",
       "    </tr>\n",
       "    <tr>\n",
       "      <th>5</th>\n",
       "      <td>Vietnam</td>\n",
       "      <td>38</td>\n",
       "    </tr>\n",
       "    <tr>\n",
       "      <th>72</th>\n",
       "      <td>Turkey</td>\n",
       "      <td>37</td>\n",
       "    </tr>\n",
       "    <tr>\n",
       "      <th>47</th>\n",
       "      <td>Iraq</td>\n",
       "      <td>36</td>\n",
       "    </tr>\n",
       "    <tr>\n",
       "      <th>23</th>\n",
       "      <td>Uzbekistan</td>\n",
       "      <td>35</td>\n",
       "    </tr>\n",
       "    <tr>\n",
       "      <th>34</th>\n",
       "      <td>Democratic Republic of Congo</td>\n",
       "      <td>33</td>\n",
       "    </tr>\n",
       "    <tr>\n",
       "      <th>8</th>\n",
       "      <td>Myanmar</td>\n",
       "      <td>30</td>\n",
       "    </tr>\n",
       "    <tr>\n",
       "      <th>48</th>\n",
       "      <td>Jordan</td>\n",
       "      <td>30</td>\n",
       "    </tr>\n",
       "    <tr>\n",
       "      <th>69</th>\n",
       "      <td>Malaysia</td>\n",
       "      <td>29</td>\n",
       "    </tr>\n",
       "    <tr>\n",
       "      <th>49</th>\n",
       "      <td>Lebanon</td>\n",
       "      <td>29</td>\n",
       "    </tr>\n",
       "    <tr>\n",
       "      <th>37</th>\n",
       "      <td>Japan</td>\n",
       "      <td>27</td>\n",
       "    </tr>\n",
       "    <tr>\n",
       "      <th>25</th>\n",
       "      <td>Canada</td>\n",
       "      <td>26</td>\n",
       "    </tr>\n",
       "    <tr>\n",
       "      <th>63</th>\n",
       "      <td>Nigeria</td>\n",
       "      <td>25</td>\n",
       "    </tr>\n",
       "    <tr>\n",
       "      <th>27</th>\n",
       "      <td>Thailand</td>\n",
       "      <td>25</td>\n",
       "    </tr>\n",
       "    <tr>\n",
       "      <th>86</th>\n",
       "      <td>Peru</td>\n",
       "      <td>21</td>\n",
       "    </tr>\n",
       "    <tr>\n",
       "      <th>28</th>\n",
       "      <td>Australia</td>\n",
       "      <td>21</td>\n",
       "    </tr>\n",
       "    <tr>\n",
       "      <th>113</th>\n",
       "      <td>Philippines</td>\n",
       "      <td>21</td>\n",
       "    </tr>\n",
       "    <tr>\n",
       "      <th>97</th>\n",
       "      <td>Sierra Leone</td>\n",
       "      <td>20</td>\n",
       "    </tr>\n",
       "    <tr>\n",
       "      <th>65</th>\n",
       "      <td>Iran</td>\n",
       "      <td>20</td>\n",
       "    </tr>\n",
       "  </tbody>\n",
       "</table>\n",
       "</div>"
      ],
      "text/plain": [
       "                          Country  Count\n",
       "4                   United States    243\n",
       "13                          India     97\n",
       "6                           China     86\n",
       "45                          Syria     64\n",
       "3                        Pakistan     63\n",
       "21                         Mexico     58\n",
       "15                     Bangladesh     54\n",
       "19                    Afghanistan     39\n",
       "55                          Ghana     39\n",
       "52                         Russia     39\n",
       "7                       Indonesia     38\n",
       "51                 United Kingdom     38\n",
       "5                         Vietnam     38\n",
       "72                         Turkey     37\n",
       "47                           Iraq     36\n",
       "23                     Uzbekistan     35\n",
       "34   Democratic Republic of Congo     33\n",
       "8                         Myanmar     30\n",
       "48                         Jordan     30\n",
       "69                       Malaysia     29\n",
       "49                        Lebanon     29\n",
       "37                          Japan     27\n",
       "25                         Canada     26\n",
       "63                        Nigeria     25\n",
       "27                       Thailand     25\n",
       "86                           Peru     21\n",
       "28                      Australia     21\n",
       "113                   Philippines     21\n",
       "97                   Sierra Leone     20\n",
       "65                           Iran     20"
      ]
     },
     "execution_count": 143,
     "metadata": {},
     "output_type": "execute_result"
    }
   ],
   "source": [
    "# Extract Top20 countries\n",
    "country_counts_df_top20 = country_counts_df[country_counts_df['Count']>=20]\n",
    "country_counts_df_top20"
   ]
  },
  {
   "cell_type": "code",
   "execution_count": 144,
   "id": "dcb18656",
   "metadata": {},
   "outputs": [
    {
     "data": {
      "application/vnd.plotly.v1+json": {
       "config": {
        "plotlyServerURL": "https://plot.ly"
       },
       "data": [
        {
         "coloraxis": "coloraxis",
         "geo": "geo",
         "hovertemplate": "<b>%{hovertext}</b><br><br>Country=%{location}<br>Count=%{z}<extra></extra>",
         "hovertext": [
          "United States",
          "India",
          "China",
          "Syria",
          "Pakistan",
          "Mexico",
          "Bangladesh",
          "Afghanistan",
          "Ghana",
          "Russia",
          "Indonesia",
          "United Kingdom",
          "Vietnam",
          "Turkey",
          "Iraq",
          "Uzbekistan",
          "Democratic Republic of Congo",
          "Myanmar",
          "Jordan",
          "Malaysia",
          "Lebanon",
          "Japan",
          "Canada",
          "Nigeria",
          "Thailand",
          "Peru",
          "Australia",
          "Philippines",
          "Sierra Leone",
          "Iran"
         ],
         "locationmode": "country names",
         "locations": [
          "United States",
          "India",
          "China",
          "Syria",
          "Pakistan",
          "Mexico",
          "Bangladesh",
          "Afghanistan",
          "Ghana",
          "Russia",
          "Indonesia",
          "United Kingdom",
          "Vietnam",
          "Turkey",
          "Iraq",
          "Uzbekistan",
          "Democratic Republic of Congo",
          "Myanmar",
          "Jordan",
          "Malaysia",
          "Lebanon",
          "Japan",
          "Canada",
          "Nigeria",
          "Thailand",
          "Peru",
          "Australia",
          "Philippines",
          "Sierra Leone",
          "Iran"
         ],
         "name": "",
         "type": "choropleth",
         "z": [
          243,
          97,
          86,
          64,
          63,
          58,
          54,
          39,
          39,
          39,
          38,
          38,
          38,
          37,
          36,
          35,
          33,
          30,
          30,
          29,
          29,
          27,
          26,
          25,
          25,
          21,
          21,
          21,
          20,
          20
         ]
        }
       ],
       "layout": {
        "coloraxis": {
         "colorbar": {
          "title": {
           "text": "Count"
          }
         },
         "colorscale": [
          [
           0,
           "rgb(255,245,240)"
          ],
          [
           0.125,
           "rgb(254,224,210)"
          ],
          [
           0.25,
           "rgb(252,187,161)"
          ],
          [
           0.375,
           "rgb(252,146,114)"
          ],
          [
           0.5,
           "rgb(251,106,74)"
          ],
          [
           0.625,
           "rgb(239,59,44)"
          ],
          [
           0.75,
           "rgb(203,24,29)"
          ],
          [
           0.875,
           "rgb(165,15,21)"
          ],
          [
           1,
           "rgb(103,0,13)"
          ]
         ]
        },
        "geo": {
         "center": {},
         "domain": {
          "x": [
           0,
           1
          ],
          "y": [
           0,
           1
          ]
         }
        },
        "height": 500,
        "legend": {
         "tracegroupgap": 0
        },
        "template": {
         "data": {
          "bar": [
           {
            "error_x": {
             "color": "#2a3f5f"
            },
            "error_y": {
             "color": "#2a3f5f"
            },
            "marker": {
             "line": {
              "color": "#E5ECF6",
              "width": 0.5
             },
             "pattern": {
              "fillmode": "overlay",
              "size": 10,
              "solidity": 0.2
             }
            },
            "type": "bar"
           }
          ],
          "barpolar": [
           {
            "marker": {
             "line": {
              "color": "#E5ECF6",
              "width": 0.5
             },
             "pattern": {
              "fillmode": "overlay",
              "size": 10,
              "solidity": 0.2
             }
            },
            "type": "barpolar"
           }
          ],
          "carpet": [
           {
            "aaxis": {
             "endlinecolor": "#2a3f5f",
             "gridcolor": "white",
             "linecolor": "white",
             "minorgridcolor": "white",
             "startlinecolor": "#2a3f5f"
            },
            "baxis": {
             "endlinecolor": "#2a3f5f",
             "gridcolor": "white",
             "linecolor": "white",
             "minorgridcolor": "white",
             "startlinecolor": "#2a3f5f"
            },
            "type": "carpet"
           }
          ],
          "choropleth": [
           {
            "colorbar": {
             "outlinewidth": 0,
             "ticks": ""
            },
            "type": "choropleth"
           }
          ],
          "contour": [
           {
            "colorbar": {
             "outlinewidth": 0,
             "ticks": ""
            },
            "colorscale": [
             [
              0,
              "#0d0887"
             ],
             [
              0.1111111111111111,
              "#46039f"
             ],
             [
              0.2222222222222222,
              "#7201a8"
             ],
             [
              0.3333333333333333,
              "#9c179e"
             ],
             [
              0.4444444444444444,
              "#bd3786"
             ],
             [
              0.5555555555555556,
              "#d8576b"
             ],
             [
              0.6666666666666666,
              "#ed7953"
             ],
             [
              0.7777777777777778,
              "#fb9f3a"
             ],
             [
              0.8888888888888888,
              "#fdca26"
             ],
             [
              1,
              "#f0f921"
             ]
            ],
            "type": "contour"
           }
          ],
          "contourcarpet": [
           {
            "colorbar": {
             "outlinewidth": 0,
             "ticks": ""
            },
            "type": "contourcarpet"
           }
          ],
          "heatmap": [
           {
            "colorbar": {
             "outlinewidth": 0,
             "ticks": ""
            },
            "colorscale": [
             [
              0,
              "#0d0887"
             ],
             [
              0.1111111111111111,
              "#46039f"
             ],
             [
              0.2222222222222222,
              "#7201a8"
             ],
             [
              0.3333333333333333,
              "#9c179e"
             ],
             [
              0.4444444444444444,
              "#bd3786"
             ],
             [
              0.5555555555555556,
              "#d8576b"
             ],
             [
              0.6666666666666666,
              "#ed7953"
             ],
             [
              0.7777777777777778,
              "#fb9f3a"
             ],
             [
              0.8888888888888888,
              "#fdca26"
             ],
             [
              1,
              "#f0f921"
             ]
            ],
            "type": "heatmap"
           }
          ],
          "heatmapgl": [
           {
            "colorbar": {
             "outlinewidth": 0,
             "ticks": ""
            },
            "colorscale": [
             [
              0,
              "#0d0887"
             ],
             [
              0.1111111111111111,
              "#46039f"
             ],
             [
              0.2222222222222222,
              "#7201a8"
             ],
             [
              0.3333333333333333,
              "#9c179e"
             ],
             [
              0.4444444444444444,
              "#bd3786"
             ],
             [
              0.5555555555555556,
              "#d8576b"
             ],
             [
              0.6666666666666666,
              "#ed7953"
             ],
             [
              0.7777777777777778,
              "#fb9f3a"
             ],
             [
              0.8888888888888888,
              "#fdca26"
             ],
             [
              1,
              "#f0f921"
             ]
            ],
            "type": "heatmapgl"
           }
          ],
          "histogram": [
           {
            "marker": {
             "pattern": {
              "fillmode": "overlay",
              "size": 10,
              "solidity": 0.2
             }
            },
            "type": "histogram"
           }
          ],
          "histogram2d": [
           {
            "colorbar": {
             "outlinewidth": 0,
             "ticks": ""
            },
            "colorscale": [
             [
              0,
              "#0d0887"
             ],
             [
              0.1111111111111111,
              "#46039f"
             ],
             [
              0.2222222222222222,
              "#7201a8"
             ],
             [
              0.3333333333333333,
              "#9c179e"
             ],
             [
              0.4444444444444444,
              "#bd3786"
             ],
             [
              0.5555555555555556,
              "#d8576b"
             ],
             [
              0.6666666666666666,
              "#ed7953"
             ],
             [
              0.7777777777777778,
              "#fb9f3a"
             ],
             [
              0.8888888888888888,
              "#fdca26"
             ],
             [
              1,
              "#f0f921"
             ]
            ],
            "type": "histogram2d"
           }
          ],
          "histogram2dcontour": [
           {
            "colorbar": {
             "outlinewidth": 0,
             "ticks": ""
            },
            "colorscale": [
             [
              0,
              "#0d0887"
             ],
             [
              0.1111111111111111,
              "#46039f"
             ],
             [
              0.2222222222222222,
              "#7201a8"
             ],
             [
              0.3333333333333333,
              "#9c179e"
             ],
             [
              0.4444444444444444,
              "#bd3786"
             ],
             [
              0.5555555555555556,
              "#d8576b"
             ],
             [
              0.6666666666666666,
              "#ed7953"
             ],
             [
              0.7777777777777778,
              "#fb9f3a"
             ],
             [
              0.8888888888888888,
              "#fdca26"
             ],
             [
              1,
              "#f0f921"
             ]
            ],
            "type": "histogram2dcontour"
           }
          ],
          "mesh3d": [
           {
            "colorbar": {
             "outlinewidth": 0,
             "ticks": ""
            },
            "type": "mesh3d"
           }
          ],
          "parcoords": [
           {
            "line": {
             "colorbar": {
              "outlinewidth": 0,
              "ticks": ""
             }
            },
            "type": "parcoords"
           }
          ],
          "pie": [
           {
            "automargin": true,
            "type": "pie"
           }
          ],
          "scatter": [
           {
            "fillpattern": {
             "fillmode": "overlay",
             "size": 10,
             "solidity": 0.2
            },
            "type": "scatter"
           }
          ],
          "scatter3d": [
           {
            "line": {
             "colorbar": {
              "outlinewidth": 0,
              "ticks": ""
             }
            },
            "marker": {
             "colorbar": {
              "outlinewidth": 0,
              "ticks": ""
             }
            },
            "type": "scatter3d"
           }
          ],
          "scattercarpet": [
           {
            "marker": {
             "colorbar": {
              "outlinewidth": 0,
              "ticks": ""
             }
            },
            "type": "scattercarpet"
           }
          ],
          "scattergeo": [
           {
            "marker": {
             "colorbar": {
              "outlinewidth": 0,
              "ticks": ""
             }
            },
            "type": "scattergeo"
           }
          ],
          "scattergl": [
           {
            "marker": {
             "colorbar": {
              "outlinewidth": 0,
              "ticks": ""
             }
            },
            "type": "scattergl"
           }
          ],
          "scattermapbox": [
           {
            "marker": {
             "colorbar": {
              "outlinewidth": 0,
              "ticks": ""
             }
            },
            "type": "scattermapbox"
           }
          ],
          "scatterpolar": [
           {
            "marker": {
             "colorbar": {
              "outlinewidth": 0,
              "ticks": ""
             }
            },
            "type": "scatterpolar"
           }
          ],
          "scatterpolargl": [
           {
            "marker": {
             "colorbar": {
              "outlinewidth": 0,
              "ticks": ""
             }
            },
            "type": "scatterpolargl"
           }
          ],
          "scatterternary": [
           {
            "marker": {
             "colorbar": {
              "outlinewidth": 0,
              "ticks": ""
             }
            },
            "type": "scatterternary"
           }
          ],
          "surface": [
           {
            "colorbar": {
             "outlinewidth": 0,
             "ticks": ""
            },
            "colorscale": [
             [
              0,
              "#0d0887"
             ],
             [
              0.1111111111111111,
              "#46039f"
             ],
             [
              0.2222222222222222,
              "#7201a8"
             ],
             [
              0.3333333333333333,
              "#9c179e"
             ],
             [
              0.4444444444444444,
              "#bd3786"
             ],
             [
              0.5555555555555556,
              "#d8576b"
             ],
             [
              0.6666666666666666,
              "#ed7953"
             ],
             [
              0.7777777777777778,
              "#fb9f3a"
             ],
             [
              0.8888888888888888,
              "#fdca26"
             ],
             [
              1,
              "#f0f921"
             ]
            ],
            "type": "surface"
           }
          ],
          "table": [
           {
            "cells": {
             "fill": {
              "color": "#EBF0F8"
             },
             "line": {
              "color": "white"
             }
            },
            "header": {
             "fill": {
              "color": "#C8D4E3"
             },
             "line": {
              "color": "white"
             }
            },
            "type": "table"
           }
          ]
         },
         "layout": {
          "annotationdefaults": {
           "arrowcolor": "#2a3f5f",
           "arrowhead": 0,
           "arrowwidth": 1
          },
          "autotypenumbers": "strict",
          "coloraxis": {
           "colorbar": {
            "outlinewidth": 0,
            "ticks": ""
           }
          },
          "colorscale": {
           "diverging": [
            [
             0,
             "#8e0152"
            ],
            [
             0.1,
             "#c51b7d"
            ],
            [
             0.2,
             "#de77ae"
            ],
            [
             0.3,
             "#f1b6da"
            ],
            [
             0.4,
             "#fde0ef"
            ],
            [
             0.5,
             "#f7f7f7"
            ],
            [
             0.6,
             "#e6f5d0"
            ],
            [
             0.7,
             "#b8e186"
            ],
            [
             0.8,
             "#7fbc41"
            ],
            [
             0.9,
             "#4d9221"
            ],
            [
             1,
             "#276419"
            ]
           ],
           "sequential": [
            [
             0,
             "#0d0887"
            ],
            [
             0.1111111111111111,
             "#46039f"
            ],
            [
             0.2222222222222222,
             "#7201a8"
            ],
            [
             0.3333333333333333,
             "#9c179e"
            ],
            [
             0.4444444444444444,
             "#bd3786"
            ],
            [
             0.5555555555555556,
             "#d8576b"
            ],
            [
             0.6666666666666666,
             "#ed7953"
            ],
            [
             0.7777777777777778,
             "#fb9f3a"
            ],
            [
             0.8888888888888888,
             "#fdca26"
            ],
            [
             1,
             "#f0f921"
            ]
           ],
           "sequentialminus": [
            [
             0,
             "#0d0887"
            ],
            [
             0.1111111111111111,
             "#46039f"
            ],
            [
             0.2222222222222222,
             "#7201a8"
            ],
            [
             0.3333333333333333,
             "#9c179e"
            ],
            [
             0.4444444444444444,
             "#bd3786"
            ],
            [
             0.5555555555555556,
             "#d8576b"
            ],
            [
             0.6666666666666666,
             "#ed7953"
            ],
            [
             0.7777777777777778,
             "#fb9f3a"
            ],
            [
             0.8888888888888888,
             "#fdca26"
            ],
            [
             1,
             "#f0f921"
            ]
           ]
          },
          "colorway": [
           "#636efa",
           "#EF553B",
           "#00cc96",
           "#ab63fa",
           "#FFA15A",
           "#19d3f3",
           "#FF6692",
           "#B6E880",
           "#FF97FF",
           "#FECB52"
          ],
          "font": {
           "color": "#2a3f5f"
          },
          "geo": {
           "bgcolor": "white",
           "lakecolor": "white",
           "landcolor": "#E5ECF6",
           "showlakes": true,
           "showland": true,
           "subunitcolor": "white"
          },
          "hoverlabel": {
           "align": "left"
          },
          "hovermode": "closest",
          "mapbox": {
           "style": "light"
          },
          "paper_bgcolor": "white",
          "plot_bgcolor": "#E5ECF6",
          "polar": {
           "angularaxis": {
            "gridcolor": "white",
            "linecolor": "white",
            "ticks": ""
           },
           "bgcolor": "#E5ECF6",
           "radialaxis": {
            "gridcolor": "white",
            "linecolor": "white",
            "ticks": ""
           }
          },
          "scene": {
           "xaxis": {
            "backgroundcolor": "#E5ECF6",
            "gridcolor": "white",
            "gridwidth": 2,
            "linecolor": "white",
            "showbackground": true,
            "ticks": "",
            "zerolinecolor": "white"
           },
           "yaxis": {
            "backgroundcolor": "#E5ECF6",
            "gridcolor": "white",
            "gridwidth": 2,
            "linecolor": "white",
            "showbackground": true,
            "ticks": "",
            "zerolinecolor": "white"
           },
           "zaxis": {
            "backgroundcolor": "#E5ECF6",
            "gridcolor": "white",
            "gridwidth": 2,
            "linecolor": "white",
            "showbackground": true,
            "ticks": "",
            "zerolinecolor": "white"
           }
          },
          "shapedefaults": {
           "line": {
            "color": "#2a3f5f"
           }
          },
          "ternary": {
           "aaxis": {
            "gridcolor": "white",
            "linecolor": "white",
            "ticks": ""
           },
           "baxis": {
            "gridcolor": "white",
            "linecolor": "white",
            "ticks": ""
           },
           "bgcolor": "#E5ECF6",
           "caxis": {
            "gridcolor": "white",
            "linecolor": "white",
            "ticks": ""
           }
          },
          "title": {
           "x": 0.05
          },
          "xaxis": {
           "automargin": true,
           "gridcolor": "white",
           "linecolor": "white",
           "ticks": "",
           "title": {
            "standoff": 15
           },
           "zerolinecolor": "white",
           "zerolinewidth": 2
          },
          "yaxis": {
           "automargin": true,
           "gridcolor": "white",
           "linecolor": "white",
           "ticks": "",
           "title": {
            "standoff": 15
           },
           "zerolinecolor": "white",
           "zerolinewidth": 2
          }
         }
        },
        "title": {
         "text": "Frequencies of child exploitation news by country (over 20 counts only)"
        },
        "width": 800
       }
      }
     },
     "metadata": {},
     "output_type": "display_data"
    }
   ],
   "source": [
    "fig = px.choropleth(country_counts_df_top20,\n",
    "                     locations='Country',\n",
    "                     locationmode='country names',\n",
    "                     color='Count',\n",
    "                     hover_name='Country',\n",
    "                     color_continuous_scale='Reds',  \n",
    "                     title='Frequencies of child exploitation news by country (over 20 counts only)')  \n",
    "fig.update_layout(width=800, height=500)\n",
    "fig.write_html(\"country_counts.html\")\n",
    "fig.show()"
   ]
  },
  {
   "attachments": {
    "image.png": {
     "image/png": "[encoded data removed]"
    }
   },
   "cell_type": "markdown",
   "id": "2f5f50ad",
   "metadata": {},
   "source": [
    "![image.png](attachment:image.png)"
   ]
  },
  {
   "cell_type": "markdown",
   "id": "14f8858e",
   "metadata": {},
   "source": [
    "### 5-2: Commodities Mentioned in Child Labour Related Articles"
   ]
  },
  {
   "cell_type": "code",
   "execution_count": null,
   "id": "e92c1541",
   "metadata": {},
   "outputs": [],
   "source": [
    "# Remove unnecessary punctuation marks.\n",
    "output_df['Commodities'] = output_df['Commodities'].str.replace('\\n-', ',')\n",
    "output_df['Commodities'] = output_df['Commodities'].str.replace('[', '')\n",
    "output_df['Commodities'] = output_df['Commodities'].str.replace(']', '')\n",
    "output_df['Commodities'] = output_df['Commodities'].str.replace('.', '')\n",
    "output_df['Commodities'] = output_df['Commodities'].str.replace(\"'\", \"\")\n",
    "\n",
    "# Unify commodity names\n",
    "## Cobalt\n",
    "output_df['Commodities'] = output_df['Commodities'].str.replace(\"cobolt\", \"cobalt\")\n",
    "## Apparel\n",
    "output_df['Commodities'] = output_df['Commodities'].str.replace(\"cobolt\", \"cobalt\")"
   ]
  },
  {
   "cell_type": "code",
   "execution_count": 202,
   "id": "59b0e674",
   "metadata": {},
   "outputs": [],
   "source": [
    "commodity_counts= {}\n",
    "for data in output_df['Commodities']:\n",
    "    data = data.split(\", \")\n",
    "    for commodity in data:\n",
    "        if commodity in commodity_counts:\n",
    "            commodity_counts[commodity] += 1\n",
    "        else:\n",
    "            commodity_counts[commodity] = 1"
   ]
  },
  {
   "cell_type": "code",
   "execution_count": null,
   "id": "254a541d",
   "metadata": {},
   "outputs": [],
   "source": [
    "commodity_counts_df = pd.DataFrame(list(commodity_counts.items()), columns=['Commodity', 'Count'])\n",
    "# Remove \"None\" and inappropriate words\n",
    "commodity_counts_df = commodity_counts_df[~commodity_counts_df['Commodity'].isin(['None', 'Child labor','Child Labor'])]\n",
    "# Reorganise\n",
    "commodity_counts_df = commodity_counts_df.sort_values(by='Count', ascending=False)\n",
    "commodity_counts_df.reset_index(drop=True)"
   ]
  },
  {
   "cell_type": "code",
   "execution_count": 207,
   "id": "c53715a6",
   "metadata": {},
   "outputs": [
    {
     "data": {
      "text/html": [
       "<div>\n",
       "<style scoped>\n",
       "    .dataframe tbody tr th:only-of-type {\n",
       "        vertical-align: middle;\n",
       "    }\n",
       "\n",
       "    .dataframe tbody tr th {\n",
       "        vertical-align: top;\n",
       "    }\n",
       "\n",
       "    .dataframe thead th {\n",
       "        text-align: right;\n",
       "    }\n",
       "</style>\n",
       "<table border=\"1\" class=\"dataframe\">\n",
       "  <thead>\n",
       "    <tr style=\"text-align: right;\">\n",
       "      <th></th>\n",
       "      <th>Commodity</th>\n",
       "      <th>Count</th>\n",
       "    </tr>\n",
       "  </thead>\n",
       "  <tbody>\n",
       "    <tr>\n",
       "      <th>6</th>\n",
       "      <td>Apparel</td>\n",
       "      <td>115</td>\n",
       "    </tr>\n",
       "    <tr>\n",
       "      <th>7</th>\n",
       "      <td>Textiles</td>\n",
       "      <td>101</td>\n",
       "    </tr>\n",
       "    <tr>\n",
       "      <th>8</th>\n",
       "      <td>Garments</td>\n",
       "      <td>61</td>\n",
       "    </tr>\n",
       "    <tr>\n",
       "      <th>27</th>\n",
       "      <td>Footwear</td>\n",
       "      <td>57</td>\n",
       "    </tr>\n",
       "    <tr>\n",
       "      <th>41</th>\n",
       "      <td>Agricultural produce</td>\n",
       "      <td>45</td>\n",
       "    </tr>\n",
       "    <tr>\n",
       "      <th>21</th>\n",
       "      <td>Electronics</td>\n",
       "      <td>44</td>\n",
       "    </tr>\n",
       "    <tr>\n",
       "      <th>28</th>\n",
       "      <td>Handicrafts</td>\n",
       "      <td>43</td>\n",
       "    </tr>\n",
       "    <tr>\n",
       "      <th>20</th>\n",
       "      <td>Gold</td>\n",
       "      <td>43</td>\n",
       "    </tr>\n",
       "    <tr>\n",
       "      <th>18</th>\n",
       "      <td>Cotton</td>\n",
       "      <td>37</td>\n",
       "    </tr>\n",
       "    <tr>\n",
       "      <th>57</th>\n",
       "      <td>Toys</td>\n",
       "      <td>37</td>\n",
       "    </tr>\n",
       "    <tr>\n",
       "      <th>35</th>\n",
       "      <td>Carpentry</td>\n",
       "      <td>36</td>\n",
       "    </tr>\n",
       "    <tr>\n",
       "      <th>19</th>\n",
       "      <td>Ores</td>\n",
       "      <td>32</td>\n",
       "    </tr>\n",
       "    <tr>\n",
       "      <th>33</th>\n",
       "      <td>Carpets</td>\n",
       "      <td>31</td>\n",
       "    </tr>\n",
       "    <tr>\n",
       "      <th>29</th>\n",
       "      <td>Furniture</td>\n",
       "      <td>30</td>\n",
       "    </tr>\n",
       "    <tr>\n",
       "      <th>51</th>\n",
       "      <td>Cobalt</td>\n",
       "      <td>28</td>\n",
       "    </tr>\n",
       "    <tr>\n",
       "      <th>30</th>\n",
       "      <td>Bricks</td>\n",
       "      <td>27</td>\n",
       "    </tr>\n",
       "    <tr>\n",
       "      <th>65</th>\n",
       "      <td>Cocoa</td>\n",
       "      <td>25</td>\n",
       "    </tr>\n",
       "    <tr>\n",
       "      <th>94</th>\n",
       "      <td>Food processing products</td>\n",
       "      <td>25</td>\n",
       "    </tr>\n",
       "    <tr>\n",
       "      <th>73</th>\n",
       "      <td>Cosmetics</td>\n",
       "      <td>22</td>\n",
       "    </tr>\n",
       "    <tr>\n",
       "      <th>66</th>\n",
       "      <td>Clothing</td>\n",
       "      <td>18</td>\n",
       "    </tr>\n",
       "  </tbody>\n",
       "</table>\n",
       "</div>"
      ],
      "text/plain": [
       "                   Commodity  Count\n",
       "6                    Apparel    115\n",
       "7                   Textiles    101\n",
       "8                   Garments     61\n",
       "27                  Footwear     57\n",
       "41      Agricultural produce     45\n",
       "21               Electronics     44\n",
       "28               Handicrafts     43\n",
       "20                      Gold     43\n",
       "18                    Cotton     37\n",
       "57                      Toys     37\n",
       "35                 Carpentry     36\n",
       "19                      Ores     32\n",
       "33                   Carpets     31\n",
       "29                 Furniture     30\n",
       "51                    Cobalt     28\n",
       "30                    Bricks     27\n",
       "65                     Cocoa     25\n",
       "94  Food processing products     25\n",
       "73                 Cosmetics     22\n",
       "66                  Clothing     18"
      ]
     },
     "execution_count": 207,
     "metadata": {},
     "output_type": "execute_result"
    }
   ],
   "source": [
    "# Extract Top20 Commodities.\n",
    "commodity_counts_df_top20 = commodity_counts_df[:20]\n",
    "commodity_counts_df_top20"
   ]
  },
  {
   "cell_type": "code",
   "execution_count": 209,
   "id": "e2306928",
   "metadata": {},
   "outputs": [
    {
     "data": {
      "image/png": "[encoded data removed]",
      "text/plain": [
       "<Figure size 1000x500 with 1 Axes>"
      ]
     },
     "metadata": {},
     "output_type": "display_data"
    }
   ],
   "source": [
    "# Create a WordCloud\n",
    "commodity_top20_freq = {commodity: count for commodity, count in zip(commodity_counts_df_top20['Commodity'], commodity_counts_df_top20['Count'])}\n",
    "wordcloud = WordCloud(width=800, height=400, background_color='white').generate_from_frequencies(commodity_top20_freq)\n",
    "\n",
    "plt.figure(figsize=(10, 5))\n",
    "plt.imshow(wordcloud, interpolation='bilinear')\n",
    "plt.axis('off')\n",
    "plt.title('Top 20 commodities in child exploitation news')\n",
    "\n",
    "plt.savefig('wordcloud_commodity.jpeg', format='jpeg')\n",
    "plt.show()\n"
   ]
  }
 ],
 "metadata": {
  "kernelspec": {
   "display_name": "Python 3 (ipykernel)",
   "language": "python",
   "name": "python3"
  },
  "language_info": {
   "codemirror_mode": {
    "name": "ipython",
    "version": 3
   },
   "file_extension": ".py",
   "mimetype": "text/x-python",
   "name": "python",
   "nbconvert_exporter": "python",
   "pygments_lexer": "ipython3",
   "version": "3.11.4"
  }
 },
 "nbformat": 4,
 "nbformat_minor": 5
}
